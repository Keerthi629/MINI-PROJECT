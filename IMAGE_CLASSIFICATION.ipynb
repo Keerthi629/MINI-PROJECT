{
  "nbformat": 4,
  "nbformat_minor": 0,
  "metadata": {
    "colab": {
      "name": "IMAGE CLASSIFICATION.ipynb",
      "provenance": [],
      "collapsed_sections": [],
      "authorship_tag": "ABX9TyOvVbIRDwNZ0M3cUiFi/2HC",
      "include_colab_link": true
    },
    "kernelspec": {
      "name": "python3",
      "display_name": "Python 3"
    },
    "language_info": {
      "name": "python"
    }
  },
  "cells": [
    {
      "cell_type": "markdown",
      "metadata": {
        "id": "view-in-github",
        "colab_type": "text"
      },
      "source": [
        "<a href=\"https://colab.research.google.com/github/Keerthi629/MINI-PROJECT/blob/main/IMAGE_CLASSIFICATION.ipynb\" target=\"_parent\"><img src=\"https://colab.research.google.com/assets/colab-badge.svg\" alt=\"Open In Colab\"/></a>"
      ]
    },
    {
      "cell_type": "code",
      "metadata": {
        "colab": {
          "base_uri": "https://localhost:8080/"
        },
        "id": "sHQTn6QkkWoF",
        "outputId": "bf4c2881-f35b-4614-f1a5-e3bb83e9ed4f"
      },
      "source": [
        "!pip install bing-image-downloader"
      ],
      "execution_count": null,
      "outputs": [
        {
          "output_type": "stream",
          "text": [
            "Collecting bing-image-downloader\n",
            "  Downloading https://files.pythonhosted.org/packages/0d/bf/537a61030b84ae4cd5022d5c7b014fd9bc3ce7c02358919153a6658a61d3/bing_image_downloader-1.0.4-py3-none-any.whl\n",
            "Installing collected packages: bing-image-downloader\n",
            "Successfully installed bing-image-downloader-1.0.4\n"
          ],
          "name": "stdout"
        }
      ]
    },
    {
      "cell_type": "code",
      "metadata": {
        "id": "_dHRHh3CkedM"
      },
      "source": [
        "!mkdir images"
      ],
      "execution_count": null,
      "outputs": []
    },
    {
      "cell_type": "code",
      "metadata": {
        "colab": {
          "base_uri": "https://localhost:8080/"
        },
        "id": "7AMxSP-hkodm",
        "outputId": "ff90bcb2-8b1a-4adb-8ad2-28f0c36677fd"
      },
      "source": [
        "from bing_image_downloader import downloader\n",
        "downloader.download(\"lotus\",limit=50,output_dir='images',\n",
        "                    adult_filter_off=True)"
      ],
      "execution_count": null,
      "outputs": [
        {
          "output_type": "stream",
          "text": [
            "\n",
            "\n",
            "[!!]Indexing page: 1\n",
            "\n",
            "[%] Indexed 12 Images on Page 1.\n",
            "\n",
            "===============================================\n",
            "\n",
            "[%] Downloading Image #1 from https://www.hdwallpapers.in/download/water_lily_5k-1280x720.jpg\n",
            "[%] File Downloaded !\n",
            "\n",
            "[%] Downloading Image #2 from https://weneedfun.com/wp-content/uploads/2016/01/Orchid-Flower-30.jpg\n",
            "[%] File Downloaded !\n",
            "\n",
            "[%] Downloading Image #3 from https://tattoomagz.com/wp-content/uploads/Tattoos/tattoo-tattoo-ideas-flower-tattoo/Black-foot-lotus-flower-tattoo.jpg\n",
            "[%] File Downloaded !\n",
            "\n",
            "[%] Downloading Image #4 from https://weneedfun.com/wp-content/uploads/2016/02/Seoul-19.jpg\n",
            "[%] File Downloaded !\n",
            "\n",
            "[%] Downloading Image #5 from http://www.splendidhabitat.com/wp-content/uploads/2015/01/solid_copper_ceiling_tiles-510x765.jpg\n",
            "[%] File Downloaded !\n",
            "\n",
            "[%] Downloading Image #6 from https://www.lotussculpture.com/mm5/graphics/00000001/1kamakura1%20buddha.jpg\n",
            "[%] File Downloaded !\n",
            "\n",
            "[%] Downloading Image #7 from https://www.hdcarwallpapers.com/download/bmw_m8_gte_2018_2-1280x720.jpg\n",
            "[%] File Downloaded !\n",
            "\n",
            "[%] Downloading Image #8 from https://www.lotussculpture.com/mm5/graphics/00000001/1-Brass-Sukhothai-Buddha-Sculpture.jpg\n",
            "[%] File Downloaded !\n",
            "\n",
            "[%] Downloading Image #9 from http://icreatived.com/wp-content/uploads/2015/09/Pallet-Wood-Flooring-5.jpg\n",
            "[%] File Downloaded !\n",
            "\n",
            "[%] Downloading Image #10 from https://www.supercars.net/blog/wp-content/uploads/2020/09/2021-Porsche-911-Turbo-006-2160-scaled.jpg\n",
            "[%] File Downloaded !\n",
            "\n",
            "[%] Downloading Image #11 from https://www.architectureartdesigns.com/wp-content/uploads/2015/02/20-Relaxing-Tropical-Bathroom-Designs-To-Make-You-Feel-Like-Being-In-Paradise-6-630x875.jpg\n",
            "[%] File Downloaded !\n",
            "\n",
            "[%] Downloading Image #12 from https://www.shared.com/content/images/2017/10/1484671991907.jpg\n",
            "[%] File Downloaded !\n",
            "\n",
            "\n",
            "\n",
            "[!!]Indexing page: 2\n",
            "\n",
            "[%] Indexed 12 Images on Page 2.\n",
            "\n",
            "===============================================\n",
            "\n",
            "[%] Downloading Image #13 from https://www.hdwallpapers.in/download/water_lily_5k-1280x720.jpg\n",
            "[%] File Downloaded !\n",
            "\n",
            "[%] Downloading Image #14 from https://weneedfun.com/wp-content/uploads/2016/01/Orchid-Flower-30.jpg\n",
            "[%] File Downloaded !\n",
            "\n",
            "[%] Downloading Image #15 from https://tattoomagz.com/wp-content/uploads/Tattoos/tattoo-tattoo-ideas-flower-tattoo/Black-foot-lotus-flower-tattoo.jpg\n",
            "[%] File Downloaded !\n",
            "\n",
            "[%] Downloading Image #16 from https://weneedfun.com/wp-content/uploads/2016/02/Seoul-19.jpg\n",
            "[%] File Downloaded !\n",
            "\n",
            "[%] Downloading Image #17 from http://www.splendidhabitat.com/wp-content/uploads/2015/01/solid_copper_ceiling_tiles-510x765.jpg\n",
            "[%] File Downloaded !\n",
            "\n",
            "[%] Downloading Image #18 from https://www.lotussculpture.com/mm5/graphics/00000001/1kamakura1%20buddha.jpg\n",
            "[%] File Downloaded !\n",
            "\n",
            "[%] Downloading Image #19 from https://www.hdcarwallpapers.com/download/bmw_m8_gte_2018_2-1280x720.jpg\n",
            "[%] File Downloaded !\n",
            "\n",
            "[%] Downloading Image #20 from https://www.lotussculpture.com/mm5/graphics/00000001/1-Brass-Sukhothai-Buddha-Sculpture.jpg\n",
            "[%] File Downloaded !\n",
            "\n",
            "[%] Downloading Image #21 from http://icreatived.com/wp-content/uploads/2015/09/Pallet-Wood-Flooring-5.jpg\n",
            "[%] File Downloaded !\n",
            "\n",
            "[%] Downloading Image #22 from https://www.supercars.net/blog/wp-content/uploads/2020/09/2021-Porsche-911-Turbo-006-2160-scaled.jpg\n",
            "[%] File Downloaded !\n",
            "\n",
            "[%] Downloading Image #23 from https://www.architectureartdesigns.com/wp-content/uploads/2015/02/20-Relaxing-Tropical-Bathroom-Designs-To-Make-You-Feel-Like-Being-In-Paradise-6-630x875.jpg\n",
            "[%] File Downloaded !\n",
            "\n",
            "[%] Downloading Image #24 from https://www.shared.com/content/images/2017/10/1484671991907.jpg\n",
            "[%] File Downloaded !\n",
            "\n",
            "\n",
            "\n",
            "[!!]Indexing page: 3\n",
            "\n",
            "[%] Indexed 11 Images on Page 3.\n",
            "\n",
            "===============================================\n",
            "\n",
            "[%] Downloading Image #25 from https://tattoomagz.com/wp-content/uploads/Tattoos/tattoo-tattoo-ideas-flower-tattoo/Black-foot-lotus-flower-tattoo.jpg\n",
            "[%] File Downloaded !\n",
            "\n",
            "[%] Downloading Image #26 from https://weneedfun.com/wp-content/uploads/2016/02/Seoul-19.jpg\n",
            "[%] File Downloaded !\n",
            "\n",
            "[%] Downloading Image #27 from http://www.splendidhabitat.com/wp-content/uploads/2015/01/solid_copper_ceiling_tiles-510x765.jpg\n",
            "[%] File Downloaded !\n",
            "\n",
            "[%] Downloading Image #28 from https://www.lotussculpture.com/mm5/graphics/00000001/1kamakura1%20buddha.jpg\n",
            "[%] File Downloaded !\n",
            "\n",
            "[%] Downloading Image #29 from https://www.hdcarwallpapers.com/download/bmw_m8_gte_2018_2-1280x720.jpg\n",
            "[%] File Downloaded !\n",
            "\n",
            "[%] Downloading Image #30 from https://www.shared.com/content/images/2017/10/1484671991907.jpg\n",
            "[%] File Downloaded !\n",
            "\n",
            "[%] Downloading Image #31 from https://www.lotussculpture.com/mm5/graphics/00000001/1-Brass-Sukhothai-Buddha-Sculpture.jpg\n",
            "[%] File Downloaded !\n",
            "\n",
            "[%] Downloading Image #32 from http://icreatived.com/wp-content/uploads/2015/09/Pallet-Wood-Flooring-5.jpg\n",
            "[%] File Downloaded !\n",
            "\n",
            "[%] Downloading Image #33 from https://www.supercars.net/blog/wp-content/uploads/2020/09/2021-Porsche-911-Turbo-006-2160-scaled.jpg\n",
            "[%] File Downloaded !\n",
            "\n",
            "[%] Downloading Image #34 from https://weneedfun.com/wp-content/uploads/2016/01/Orchid-Flower-30.jpg\n",
            "[%] File Downloaded !\n",
            "\n",
            "[%] Downloading Image #35 from https://www.architectureartdesigns.com/wp-content/uploads/2015/02/20-Relaxing-Tropical-Bathroom-Designs-To-Make-You-Feel-Like-Being-In-Paradise-6-630x875.jpg\n",
            "[%] File Downloaded !\n",
            "\n",
            "\n",
            "\n",
            "[!!]Indexing page: 4\n",
            "\n",
            "[%] Indexed 10 Images on Page 4.\n",
            "\n",
            "===============================================\n",
            "\n",
            "[%] Downloading Image #36 from https://www.lotussculpture.com/mm5/graphics/00000001/1kamakura1%20buddha.jpg\n",
            "[%] File Downloaded !\n",
            "\n",
            "[%] Downloading Image #37 from http://www.splendidhabitat.com/wp-content/uploads/2015/01/solid_copper_ceiling_tiles-510x765.jpg\n",
            "[%] File Downloaded !\n",
            "\n",
            "[%] Downloading Image #38 from https://www.lotussculpture.com/mm5/graphics/00000001/1-Brass-Sukhothai-Buddha-Sculpture.jpg\n",
            "[%] File Downloaded !\n",
            "\n",
            "[%] Downloading Image #39 from https://www.shared.com/content/images/2017/10/1484671991907.jpg\n",
            "[%] File Downloaded !\n",
            "\n",
            "[%] Downloading Image #40 from https://www.supercars.net/blog/wp-content/uploads/2020/09/2021-Porsche-911-Turbo-006-2160-scaled.jpg\n",
            "[%] File Downloaded !\n",
            "\n",
            "[%] Downloading Image #41 from https://weneedfun.com/wp-content/uploads/2016/02/Seoul-19.jpg\n",
            "[%] File Downloaded !\n",
            "\n",
            "[%] Downloading Image #42 from https://www.hdcarwallpapers.com/download/bmw_m8_gte_2018_2-1280x720.jpg\n",
            "[%] File Downloaded !\n",
            "\n",
            "[%] Downloading Image #43 from https://weneedfun.com/wp-content/uploads/2016/01/Orchid-Flower-30.jpg\n",
            "[%] File Downloaded !\n",
            "\n",
            "[%] Downloading Image #44 from https://www.architectureartdesigns.com/wp-content/uploads/2015/02/20-Relaxing-Tropical-Bathroom-Designs-To-Make-You-Feel-Like-Being-In-Paradise-6-630x875.jpg\n",
            "[%] File Downloaded !\n",
            "\n",
            "[%] Downloading Image #45 from http://icreatived.com/wp-content/uploads/2015/09/Pallet-Wood-Flooring-5.jpg\n",
            "[%] File Downloaded !\n",
            "\n",
            "\n",
            "\n",
            "[!!]Indexing page: 5\n",
            "\n",
            "[%] Indexed 9 Images on Page 5.\n",
            "\n",
            "===============================================\n",
            "\n",
            "[%] Downloading Image #46 from https://www.lotussculpture.com/mm5/graphics/00000001/1-Brass-Sukhothai-Buddha-Sculpture.jpg\n",
            "[%] File Downloaded !\n",
            "\n",
            "[%] Downloading Image #47 from https://www.supercars.net/blog/wp-content/uploads/2020/09/2021-Porsche-911-Turbo-006-2160-scaled.jpg\n",
            "[%] File Downloaded !\n",
            "\n",
            "[%] Downloading Image #48 from https://www.hdcarwallpapers.com/download/bmw_m8_gte_2018_2-1280x720.jpg\n",
            "[%] File Downloaded !\n",
            "\n",
            "[%] Downloading Image #49 from https://weneedfun.com/wp-content/uploads/2016/01/Orchid-Flower-30.jpg\n",
            "[%] File Downloaded !\n",
            "\n",
            "[%] Downloading Image #50 from http://www.splendidhabitat.com/wp-content/uploads/2015/01/solid_copper_ceiling_tiles-510x765.jpg\n",
            "[%] File Downloaded !\n",
            "\n",
            "\n",
            "\n",
            "[%] Done. Downloaded 50 images.\n",
            "\n",
            "===============================================\n",
            "\n"
          ],
          "name": "stdout"
        }
      ]
    },
    {
      "cell_type": "code",
      "metadata": {
        "colab": {
          "base_uri": "https://localhost:8080/"
        },
        "id": "gVx7BhWuk7U2",
        "outputId": "96e9d352-3442-4568-a531-63d7f5d7025b"
      },
      "source": [
        "downloader.download(\"tennis ball\",limit=50,output_dir='images',\n",
        "                    adult_filter_off=True)"
      ],
      "execution_count": null,
      "outputs": [
        {
          "output_type": "stream",
          "text": [
            "\n",
            "\n",
            "[!!]Indexing page: 1\n",
            "\n",
            "[%] Indexed 12 Images on Page 1.\n",
            "\n",
            "===============================================\n",
            "\n",
            "[%] Downloading Image #1 from https://www.youthwork-practice.com/games/game-pictures/Summer-Olympic-Discipline-Ball-throwing.jpg\n",
            "[%] File Downloaded !\n",
            "\n",
            "[%] Downloading Image #2 from http://www2.mes-coloriages-preferes.biz/colorino/Images/Large/Personnages-celebres-Mangas-Dragon-Ball-Freezer-2673.png\n",
            "[%] File Downloaded !\n",
            "\n",
            "[%] Downloading Image #3 from https://www.swr.de/-/id=19225568/property=full/4kfm23/5 Min fit Standwaage.jpg\n",
            "[!] Issue getting: https://www.swr.de/-/id=19225568/property=full/4kfm23/5 Min fit Standwaage.jpg\n",
            "[!] Error:: URL can't contain control characters. '/-/id=19225568/property=full/4kfm23/5 Min fit Standwaage.jpg' (found at least ' ')\n",
            "[%] Downloading Image #3 from http://www2.mes-coloriages-preferes.biz/colorino/Images/Large/Personnages-celebres-Mangas-Dragon-Ball-Son-Goku-71258.png\n",
            "[%] File Downloaded !\n",
            "\n",
            "[%] Downloading Image #4 from http://bitcoinist.com/wp-content/uploads/2017/07/ico-ticking-timebomb.jpg\n",
            "[%] File Downloaded !\n",
            "\n",
            "[%] Downloading Image #5 from https://www.chansons-net.com/tennis/champions/lacoste/lacoste-card-y.jpg\n",
            "[%] File Downloaded !\n",
            "\n",
            "[%] Downloading Image #6 from http://img1.ak.crunchyroll.com/i/spire2/13fd50dd8c2a049597429c5df9ef7bd51461041285_full.jpg\n",
            "[%] File Downloaded !\n",
            "\n",
            "[%] Downloading Image #7 from http://www.feralinteractive.com/data/games/superstarstennis/images/players/large/nights.jpg\n",
            "[%] File Downloaded !\n",
            "\n",
            "[%] Downloading Image #8 from https://oddstuffmagazine.com/wp-content/uploads/2018/07/My-dad-just-sent-me-this-from-in-China.jpg\n",
            "[%] File Downloaded !\n",
            "\n",
            "[%] Downloading Image #9 from https://www2.mes-coloriages-preferes.biz/colorino/Images/Large/Personnages-celebres-Mangas-Dragon-Ball-Boo-6631.png\n",
            "[%] File Downloaded !\n",
            "\n",
            "[%] Downloading Image #10 from https://www.thepaws.net/wp-content/uploads/2019/02/Catahoula-Leopard-dog-4.jpg\n",
            "[%] File Downloaded !\n",
            "\n",
            "[%] Downloading Image #11 from https://littlebinsforlittlehands.com/wp-content/uploads/2014/06/proprioceptive-sensory-play-water-filling-and-dumping-731x1024.jpg\n",
            "[%] File Downloaded !\n",
            "\n",
            "\n",
            "\n",
            "[!!]Indexing page: 2\n",
            "\n",
            "[%] Indexed 12 Images on Page 2.\n",
            "\n",
            "===============================================\n",
            "\n",
            "[%] Downloading Image #12 from https://www.youthwork-practice.com/games/game-pictures/Summer-Olympic-Discipline-Ball-throwing.jpg\n",
            "[%] File Downloaded !\n",
            "\n",
            "[%] Downloading Image #13 from http://www2.mes-coloriages-preferes.biz/colorino/Images/Large/Personnages-celebres-Mangas-Dragon-Ball-Freezer-2673.png\n",
            "[%] File Downloaded !\n",
            "\n",
            "[%] Downloading Image #14 from https://www.swr.de/-/id=19225568/property=full/4kfm23/5 Min fit Standwaage.jpg\n",
            "[!] Issue getting: https://www.swr.de/-/id=19225568/property=full/4kfm23/5 Min fit Standwaage.jpg\n",
            "[!] Error:: URL can't contain control characters. '/-/id=19225568/property=full/4kfm23/5 Min fit Standwaage.jpg' (found at least ' ')\n",
            "[%] Downloading Image #14 from http://www2.mes-coloriages-preferes.biz/colorino/Images/Large/Personnages-celebres-Mangas-Dragon-Ball-Son-Goku-71258.png\n",
            "[%] File Downloaded !\n",
            "\n",
            "[%] Downloading Image #15 from http://bitcoinist.com/wp-content/uploads/2017/07/ico-ticking-timebomb.jpg\n",
            "[%] File Downloaded !\n",
            "\n",
            "[%] Downloading Image #16 from https://www.chansons-net.com/tennis/champions/lacoste/lacoste-card-y.jpg\n",
            "[%] File Downloaded !\n",
            "\n",
            "[%] Downloading Image #17 from http://img1.ak.crunchyroll.com/i/spire2/13fd50dd8c2a049597429c5df9ef7bd51461041285_full.jpg\n",
            "[%] File Downloaded !\n",
            "\n",
            "[%] Downloading Image #18 from http://www.feralinteractive.com/data/games/superstarstennis/images/players/large/nights.jpg\n",
            "[%] File Downloaded !\n",
            "\n",
            "[%] Downloading Image #19 from https://oddstuffmagazine.com/wp-content/uploads/2018/07/My-dad-just-sent-me-this-from-in-China.jpg\n",
            "[%] File Downloaded !\n",
            "\n",
            "[%] Downloading Image #20 from https://www2.mes-coloriages-preferes.biz/colorino/Images/Large/Personnages-celebres-Mangas-Dragon-Ball-Boo-6631.png\n",
            "[%] File Downloaded !\n",
            "\n",
            "[%] Downloading Image #21 from https://www.thepaws.net/wp-content/uploads/2019/02/Catahoula-Leopard-dog-4.jpg\n",
            "[%] File Downloaded !\n",
            "\n",
            "[%] Downloading Image #22 from https://littlebinsforlittlehands.com/wp-content/uploads/2014/06/proprioceptive-sensory-play-water-filling-and-dumping-731x1024.jpg\n",
            "[%] File Downloaded !\n",
            "\n",
            "\n",
            "\n",
            "[!!]Indexing page: 3\n",
            "\n",
            "[%] Indexed 11 Images on Page 3.\n",
            "\n",
            "===============================================\n",
            "\n",
            "[%] Downloading Image #23 from https://www.swr.de/-/id=19225568/property=full/4kfm23/5 Min fit Standwaage.jpg\n",
            "[!] Issue getting: https://www.swr.de/-/id=19225568/property=full/4kfm23/5 Min fit Standwaage.jpg\n",
            "[!] Error:: URL can't contain control characters. '/-/id=19225568/property=full/4kfm23/5 Min fit Standwaage.jpg' (found at least ' ')\n",
            "[%] Downloading Image #23 from https://oddstuffmagazine.com/wp-content/uploads/2018/07/My-dad-just-sent-me-this-from-in-China.jpg\n",
            "[%] File Downloaded !\n",
            "\n",
            "[%] Downloading Image #24 from http://www2.mes-coloriages-preferes.biz/colorino/Images/Large/Personnages-celebres-Mangas-Dragon-Ball-Son-Goku-71258.png\n",
            "[%] File Downloaded !\n",
            "\n",
            "[%] Downloading Image #25 from http://bitcoinist.com/wp-content/uploads/2017/07/ico-ticking-timebomb.jpg\n",
            "[%] File Downloaded !\n",
            "\n",
            "[%] Downloading Image #26 from https://littlebinsforlittlehands.com/wp-content/uploads/2014/06/proprioceptive-sensory-play-water-filling-and-dumping-731x1024.jpg\n",
            "[%] File Downloaded !\n",
            "\n",
            "[%] Downloading Image #27 from https://www2.mes-coloriages-preferes.biz/colorino/Images/Large/Personnages-celebres-Mangas-Dragon-Ball-Boo-6631.png\n",
            "[%] File Downloaded !\n",
            "\n",
            "[%] Downloading Image #28 from http://www.feralinteractive.com/data/games/superstarstennis/images/players/large/nights.jpg\n",
            "[%] File Downloaded !\n",
            "\n",
            "[%] Downloading Image #29 from http://www2.mes-coloriages-preferes.biz/colorino/Images/Large/Personnages-celebres-Mangas-Dragon-Ball-Freezer-2673.png\n",
            "[%] File Downloaded !\n",
            "\n",
            "[%] Downloading Image #30 from https://www.thepaws.net/wp-content/uploads/2019/02/Catahoula-Leopard-dog-4.jpg\n",
            "[%] File Downloaded !\n",
            "\n",
            "[%] Downloading Image #31 from https://www.chansons-net.com/tennis/champions/lacoste/lacoste-card-y.jpg\n",
            "[%] File Downloaded !\n",
            "\n",
            "[%] Downloading Image #32 from http://img1.ak.crunchyroll.com/i/spire2/13fd50dd8c2a049597429c5df9ef7bd51461041285_full.jpg\n",
            "[%] File Downloaded !\n",
            "\n",
            "\n",
            "\n",
            "[!!]Indexing page: 4\n",
            "\n",
            "[%] Indexed 10 Images on Page 4.\n",
            "\n",
            "===============================================\n",
            "\n",
            "[%] Downloading Image #33 from http://bitcoinist.com/wp-content/uploads/2017/07/ico-ticking-timebomb.jpg\n",
            "[%] File Downloaded !\n",
            "\n",
            "[%] Downloading Image #34 from https://littlebinsforlittlehands.com/wp-content/uploads/2014/06/proprioceptive-sensory-play-water-filling-and-dumping-731x1024.jpg\n",
            "[%] File Downloaded !\n",
            "\n",
            "[%] Downloading Image #35 from https://www2.mes-coloriages-preferes.biz/colorino/Images/Large/Personnages-celebres-Mangas-Dragon-Ball-Boo-6631.png\n",
            "[%] File Downloaded !\n",
            "\n",
            "[%] Downloading Image #36 from http://www.feralinteractive.com/data/games/superstarstennis/images/players/large/nights.jpg\n",
            "[%] File Downloaded !\n",
            "\n",
            "[%] Downloading Image #37 from http://www2.mes-coloriages-preferes.biz/colorino/Images/Large/Personnages-celebres-Mangas-Dragon-Ball-Freezer-2673.png\n",
            "[%] File Downloaded !\n",
            "\n",
            "[%] Downloading Image #38 from https://www.thepaws.net/wp-content/uploads/2019/02/Catahoula-Leopard-dog-4.jpg\n",
            "[%] File Downloaded !\n",
            "\n",
            "[%] Downloading Image #39 from http://img1.ak.crunchyroll.com/i/spire2/13fd50dd8c2a049597429c5df9ef7bd51461041285_full.jpg\n",
            "[%] File Downloaded !\n",
            "\n",
            "[%] Downloading Image #40 from https://www.chansons-net.com/tennis/champions/lacoste/lacoste-card-y.jpg\n",
            "[%] File Downloaded !\n",
            "\n",
            "[%] Downloading Image #41 from https://oddstuffmagazine.com/wp-content/uploads/2018/07/My-dad-just-sent-me-this-from-in-China.jpg\n",
            "[%] File Downloaded !\n",
            "\n",
            "[%] Downloading Image #42 from http://www2.mes-coloriages-preferes.biz/colorino/Images/Large/Personnages-celebres-Mangas-Dragon-Ball-Son-Goku-71258.png\n",
            "[%] File Downloaded !\n",
            "\n",
            "\n",
            "\n",
            "[!!]Indexing page: 5\n",
            "\n",
            "[%] Indexed 9 Images on Page 5.\n",
            "\n",
            "===============================================\n",
            "\n",
            "[%] Downloading Image #43 from http://www.feralinteractive.com/data/games/superstarstennis/images/players/large/nights.jpg\n",
            "[%] File Downloaded !\n",
            "\n",
            "[%] Downloading Image #44 from http://www2.mes-coloriages-preferes.biz/colorino/Images/Large/Personnages-celebres-Mangas-Dragon-Ball-Freezer-2673.png\n",
            "[%] File Downloaded !\n",
            "\n",
            "[%] Downloading Image #45 from https://www.thepaws.net/wp-content/uploads/2019/02/Catahoula-Leopard-dog-4.jpg\n",
            "[%] File Downloaded !\n",
            "\n",
            "[%] Downloading Image #46 from http://img1.ak.crunchyroll.com/i/spire2/13fd50dd8c2a049597429c5df9ef7bd51461041285_full.jpg\n",
            "[%] File Downloaded !\n",
            "\n",
            "[%] Downloading Image #47 from https://www.chansons-net.com/tennis/champions/lacoste/lacoste-card-y.jpg\n",
            "[%] File Downloaded !\n",
            "\n",
            "[%] Downloading Image #48 from https://oddstuffmagazine.com/wp-content/uploads/2018/07/My-dad-just-sent-me-this-from-in-China.jpg\n",
            "[%] File Downloaded !\n",
            "\n",
            "[%] Downloading Image #49 from http://www2.mes-coloriages-preferes.biz/colorino/Images/Large/Personnages-celebres-Mangas-Dragon-Ball-Son-Goku-71258.png\n",
            "[%] File Downloaded !\n",
            "\n",
            "[%] Downloading Image #50 from https://littlebinsforlittlehands.com/wp-content/uploads/2014/06/proprioceptive-sensory-play-water-filling-and-dumping-731x1024.jpg\n",
            "[%] File Downloaded !\n",
            "\n",
            "\n",
            "\n",
            "[%] Done. Downloaded 50 images.\n",
            "\n",
            "===============================================\n",
            "\n"
          ],
          "name": "stdout"
        }
      ]
    },
    {
      "cell_type": "code",
      "metadata": {
        "colab": {
          "base_uri": "https://localhost:8080/"
        },
        "id": "ouN5Mt2qlaTr",
        "outputId": "dfde2a2a-95b2-4c02-db90-3f86bb0f5e81"
      },
      "source": [
        "downloader.download(\"ice cream cone\",limit=50,output_dir='images',\n",
        "                    adult_filter_off=True)"
      ],
      "execution_count": null,
      "outputs": [
        {
          "output_type": "stream",
          "text": [
            "\n",
            "\n",
            "[!!]Indexing page: 1\n",
            "\n",
            "[%] Indexed 12 Images on Page 1.\n",
            "\n",
            "===============================================\n",
            "\n",
            "[%] Downloading Image #1 from https://www.craftymorning.com/wp-content/uploads/2016/05/cotton-candy-cones-party-favor.jpg\n",
            "[%] File Downloaded !\n",
            "\n",
            "[%] Downloading Image #2 from https://zolpwsuwoq-flywheel.netdna-ssl.com/wp-content/uploads/2017/09/boys-ice-cream-party-ideas.jpg\n",
            "[%] File Downloaded !\n",
            "\n",
            "[%] Downloading Image #3 from https://www.bravotv.com/sites/bravo/files/field_blog_image/2016/04/the-feast-overflowing-ice-cream-promote.jpg\n",
            "[%] File Downloaded !\n",
            "\n",
            "[%] Downloading Image #4 from https://c.stocksy.com/a/uDH400/z9/1019522.jpg\n",
            "[%] File Downloaded !\n",
            "\n",
            "[%] Downloading Image #5 from http://www.businesstoday.lk/cpanel/uploader/3128/Cargills-Mafic-Ice-1.jpg.JPEG\n",
            "[%] File Downloaded !\n",
            "\n",
            "[%] Downloading Image #6 from https://images.firstwefeast.com/complex/image/upload/f_auto,fl_lossy,q_auto,w_1200/r0jfkuo7cd2ovwxpygmr\n",
            "[%] File Downloaded !\n",
            "\n",
            "[%] Downloading Image #7 from https://belgique.co.uk/shop/517-thickbox_default/dripping-cake-chocolate.jpg\n",
            "[%] File Downloaded !\n",
            "\n",
            "[%] Downloading Image #8 from https://premier-cake-creations.com/wp-content/uploads/2019/04/Ice-Cream-Cone-Drip-Cake.jpg\n",
            "[%] File Downloaded !\n",
            "\n",
            "[%] Downloading Image #9 from http://etc.usf.edu/clipart/5300/5358/cone_1_lg.gif\n",
            "[%] File Downloaded !\n",
            "\n",
            "[%] Downloading Image #10 from http://spoonssquared.com/wp-content/uploads/2014/07/4-mini-cones.jpg\n",
            "[%] File Downloaded !\n",
            "\n",
            "[%] Downloading Image #11 from https://media1.s-nbcnews.com/j/streams/2014/May/140501/2D274905755348-sugar-craft477.today-inline-large.jpg\n",
            "[%] File Downloaded !\n",
            "\n",
            "[%] Downloading Image #12 from https://thumbs.dreamstime.com/x/flaming-cocktail-9354586.jpg\n",
            "[%] File Downloaded !\n",
            "\n",
            "\n",
            "\n",
            "[!!]Indexing page: 2\n",
            "\n",
            "[%] Indexed 12 Images on Page 2.\n",
            "\n",
            "===============================================\n",
            "\n",
            "[%] Downloading Image #13 from https://www.craftymorning.com/wp-content/uploads/2016/05/cotton-candy-cones-party-favor.jpg\n",
            "[%] File Downloaded !\n",
            "\n",
            "[%] Downloading Image #14 from https://zolpwsuwoq-flywheel.netdna-ssl.com/wp-content/uploads/2017/09/boys-ice-cream-party-ideas.jpg\n",
            "[%] File Downloaded !\n",
            "\n",
            "[%] Downloading Image #15 from https://www.bravotv.com/sites/bravo/files/field_blog_image/2016/04/the-feast-overflowing-ice-cream-promote.jpg\n",
            "[%] File Downloaded !\n",
            "\n",
            "[%] Downloading Image #16 from https://c.stocksy.com/a/uDH400/z9/1019522.jpg\n",
            "[%] File Downloaded !\n",
            "\n",
            "[%] Downloading Image #17 from http://www.businesstoday.lk/cpanel/uploader/3128/Cargills-Mafic-Ice-1.jpg.JPEG\n",
            "[%] File Downloaded !\n",
            "\n",
            "[%] Downloading Image #18 from https://images.firstwefeast.com/complex/image/upload/f_auto,fl_lossy,q_auto,w_1200/r0jfkuo7cd2ovwxpygmr\n",
            "[%] File Downloaded !\n",
            "\n",
            "[%] Downloading Image #19 from https://belgique.co.uk/shop/517-thickbox_default/dripping-cake-chocolate.jpg\n",
            "[%] File Downloaded !\n",
            "\n",
            "[%] Downloading Image #20 from https://premier-cake-creations.com/wp-content/uploads/2019/04/Ice-Cream-Cone-Drip-Cake.jpg\n",
            "[%] File Downloaded !\n",
            "\n",
            "[%] Downloading Image #21 from http://etc.usf.edu/clipart/5300/5358/cone_1_lg.gif\n",
            "[%] File Downloaded !\n",
            "\n",
            "[%] Downloading Image #22 from http://spoonssquared.com/wp-content/uploads/2014/07/4-mini-cones.jpg\n",
            "[%] File Downloaded !\n",
            "\n",
            "[%] Downloading Image #23 from https://media1.s-nbcnews.com/j/streams/2014/May/140501/2D274905755348-sugar-craft477.today-inline-large.jpg\n",
            "[%] File Downloaded !\n",
            "\n",
            "[%] Downloading Image #24 from https://thumbs.dreamstime.com/x/flaming-cocktail-9354586.jpg\n",
            "[%] File Downloaded !\n",
            "\n",
            "\n",
            "\n",
            "[!!]Indexing page: 3\n",
            "\n",
            "[%] Indexed 11 Images on Page 3.\n",
            "\n",
            "===============================================\n",
            "\n",
            "[%] Downloading Image #25 from https://www.bravotv.com/sites/bravo/files/field_blog_image/2016/04/the-feast-overflowing-ice-cream-promote.jpg\n",
            "[%] File Downloaded !\n",
            "\n",
            "[%] Downloading Image #26 from http://www.businesstoday.lk/cpanel/uploader/3128/Cargills-Mafic-Ice-1.jpg.JPEG\n",
            "[%] File Downloaded !\n",
            "\n",
            "[%] Downloading Image #27 from https://zolpwsuwoq-flywheel.netdna-ssl.com/wp-content/uploads/2017/09/boys-ice-cream-party-ideas.jpg\n",
            "[%] File Downloaded !\n",
            "\n",
            "[%] Downloading Image #28 from https://belgique.co.uk/shop/517-thickbox_default/dripping-cake-chocolate.jpg\n",
            "[%] File Downloaded !\n",
            "\n",
            "[%] Downloading Image #29 from https://premier-cake-creations.com/wp-content/uploads/2019/04/Ice-Cream-Cone-Drip-Cake.jpg\n",
            "[%] File Downloaded !\n",
            "\n",
            "[%] Downloading Image #30 from https://images.firstwefeast.com/complex/image/upload/f_auto,fl_lossy,q_auto,w_1200/r0jfkuo7cd2ovwxpygmr\n",
            "[%] File Downloaded !\n",
            "\n",
            "[%] Downloading Image #31 from https://thumbs.dreamstime.com/x/flaming-cocktail-9354586.jpg\n",
            "[%] File Downloaded !\n",
            "\n",
            "[%] Downloading Image #32 from http://spoonssquared.com/wp-content/uploads/2014/07/4-mini-cones.jpg\n",
            "[%] File Downloaded !\n",
            "\n",
            "[%] Downloading Image #33 from https://media1.s-nbcnews.com/j/streams/2014/May/140501/2D274905755348-sugar-craft477.today-inline-large.jpg\n",
            "[%] File Downloaded !\n",
            "\n",
            "[%] Downloading Image #34 from https://c.stocksy.com/a/uDH400/z9/1019522.jpg\n",
            "[%] File Downloaded !\n",
            "\n",
            "[%] Downloading Image #35 from http://etc.usf.edu/clipart/5300/5358/cone_1_lg.gif\n",
            "[%] File Downloaded !\n",
            "\n",
            "\n",
            "\n",
            "[!!]Indexing page: 4\n",
            "\n",
            "[%] Indexed 10 Images on Page 4.\n",
            "\n",
            "===============================================\n",
            "\n",
            "[%] Downloading Image #36 from http://www.businesstoday.lk/cpanel/uploader/3128/Cargills-Mafic-Ice-1.jpg.JPEG\n",
            "[%] File Downloaded !\n",
            "\n",
            "[%] Downloading Image #37 from https://thumbs.dreamstime.com/x/flaming-cocktail-9354586.jpg\n",
            "[%] File Downloaded !\n",
            "\n",
            "[%] Downloading Image #38 from https://premier-cake-creations.com/wp-content/uploads/2019/04/Ice-Cream-Cone-Drip-Cake.jpg\n",
            "[%] File Downloaded !\n",
            "\n",
            "[%] Downloading Image #39 from https://belgique.co.uk/shop/517-thickbox_default/dripping-cake-chocolate.jpg\n",
            "[%] File Downloaded !\n",
            "\n",
            "[%] Downloading Image #40 from http://spoonssquared.com/wp-content/uploads/2014/07/4-mini-cones.jpg\n",
            "[%] File Downloaded !\n",
            "\n",
            "[%] Downloading Image #41 from https://media1.s-nbcnews.com/j/streams/2014/May/140501/2D274905755348-sugar-craft477.today-inline-large.jpg\n",
            "[%] File Downloaded !\n",
            "\n",
            "[%] Downloading Image #42 from https://c.stocksy.com/a/uDH400/z9/1019522.jpg\n",
            "[%] File Downloaded !\n",
            "\n",
            "[%] Downloading Image #43 from http://etc.usf.edu/clipart/5300/5358/cone_1_lg.gif\n",
            "[%] File Downloaded !\n",
            "\n",
            "[%] Downloading Image #44 from https://zolpwsuwoq-flywheel.netdna-ssl.com/wp-content/uploads/2017/09/boys-ice-cream-party-ideas.jpg\n",
            "[%] File Downloaded !\n",
            "\n",
            "[%] Downloading Image #45 from https://images.firstwefeast.com/complex/image/upload/f_auto,fl_lossy,q_auto,w_1200/r0jfkuo7cd2ovwxpygmr\n",
            "[%] File Downloaded !\n",
            "\n",
            "\n",
            "\n",
            "[!!]Indexing page: 5\n",
            "\n",
            "[%] Indexed 9 Images on Page 5.\n",
            "\n",
            "===============================================\n",
            "\n",
            "[%] Downloading Image #46 from https://premier-cake-creations.com/wp-content/uploads/2019/04/Ice-Cream-Cone-Drip-Cake.jpg\n",
            "[%] File Downloaded !\n",
            "\n",
            "[%] Downloading Image #47 from https://thumbs.dreamstime.com/x/flaming-cocktail-9354586.jpg\n",
            "[%] File Downloaded !\n",
            "\n",
            "[%] Downloading Image #48 from http://spoonssquared.com/wp-content/uploads/2014/07/4-mini-cones.jpg\n",
            "[%] File Downloaded !\n",
            "\n",
            "[%] Downloading Image #49 from https://c.stocksy.com/a/uDH400/z9/1019522.jpg\n",
            "[%] File Downloaded !\n",
            "\n",
            "[%] Downloading Image #50 from https://images.firstwefeast.com/complex/image/upload/f_auto,fl_lossy,q_auto,w_1200/r0jfkuo7cd2ovwxpygmr\n",
            "[%] File Downloaded !\n",
            "\n",
            "\n",
            "\n",
            "[%] Done. Downloaded 50 images.\n",
            "\n",
            "===============================================\n",
            "\n"
          ],
          "name": "stdout"
        }
      ]
    },
    {
      "cell_type": "code",
      "metadata": {
        "id": "SEipLHmjltyX"
      },
      "source": [
        "# Preprocessing\n",
        "# 1. Resize\n",
        "# 2. Flatten\n",
        "\n",
        "import os\n",
        "import matplotlib.pyplot as plt\n",
        "import numpy as np\n",
        "from skimage.io import imread\n",
        "from skimage.transform import resize\n",
        "\n",
        "target = []\n",
        "images = []\n",
        "flat_data = []\n",
        "\n",
        "DATADIR = '/content/images'\n",
        "CATEGORIES = ['lotus','tennis ball','ice cream cone']\n",
        "\n",
        "for category in CATEGORIES:\n",
        "  class_num = CATEGORIES.index(category) # Label Encoding the values\n",
        "  path = os.path.join(DATADIR,category) # Create path to use all the images\n",
        "  for img in os.listdir(path):\n",
        "    img_array = imread(os.path.join(path,img))\n",
        "    #print(img_array.shape)\n",
        "    #plt.imshow(img_array)\n",
        "    img_resized = resize(img_array,(150,150,3)) # Normalizes the value from 0 to 1\n",
        "    flat_data.append(img_resized.flatten())\n",
        "    images.append(img_resized)\n",
        "    target.append(class_num)\n",
        "\n",
        "flat_data = np.array(flat_data)\n",
        "target = np.array(target)\n",
        "images = np.array(images)"
      ],
      "execution_count": null,
      "outputs": []
    },
    {
      "cell_type": "code",
      "metadata": {
        "id": "iSzAsM-LmROz"
      },
      "source": [
        "# Split data into Training and testing\n",
        "from sklearn.model_selection import train_test_split\n",
        "x_train,x_test,y_train,y_test = train_test_split(flat_data,target,\n",
        "                                  test_size=0.3,random_state=165)"
      ],
      "execution_count": null,
      "outputs": []
    },
    {
      "cell_type": "code",
      "metadata": {
        "colab": {
          "base_uri": "https://localhost:8080/"
        },
        "id": "ub_4-WhAmgFj",
        "outputId": "00b2878e-71a4-4640-c04e-a8496e8136aa"
      },
      "source": [
        "from sklearn.model_selection import GridSearchCV\n",
        "from sklearn import svm\n",
        "param_grid = [\n",
        "              {'C':[1,10,100,1000],'kernel':['linear']},\n",
        "              {'C':[1,10,100,1000],'gamma':[0.001,0.0001],'kernel':['rbf']},\n",
        "]\n",
        "\n",
        "svc = svm.SVC(probability=True)\n",
        "clf = GridSearchCV(svc,param_grid)\n",
        "clf.fit(x_train,y_train)"
      ],
      "execution_count": null,
      "outputs": [
        {
          "output_type": "execute_result",
          "data": {
            "text/plain": [
              "GridSearchCV(cv=None, error_score=nan,\n",
              "             estimator=SVC(C=1.0, break_ties=False, cache_size=200,\n",
              "                           class_weight=None, coef0=0.0,\n",
              "                           decision_function_shape='ovr', degree=3,\n",
              "                           gamma='scale', kernel='rbf', max_iter=-1,\n",
              "                           probability=True, random_state=None, shrinking=True,\n",
              "                           tol=0.001, verbose=False),\n",
              "             iid='deprecated', n_jobs=None,\n",
              "             param_grid=[{'C': [1, 10, 100, 1000], 'kernel': ['linear']},\n",
              "                         {'C': [1, 10, 100, 1000], 'gamma': [0.001, 0.0001],\n",
              "                          'kernel': ['rbf']}],\n",
              "             pre_dispatch='2*n_jobs', refit=True, return_train_score=False,\n",
              "             scoring=None, verbose=0)"
            ]
          },
          "metadata": {
            "tags": []
          },
          "execution_count": 12
        }
      ]
    },
    {
      "cell_type": "code",
      "metadata": {
        "colab": {
          "base_uri": "https://localhost:8080/"
        },
        "id": "WGT9YsZrmqQR",
        "outputId": "8bf295e7-b4d1-47cc-8399-3b2523da54fb"
      },
      "source": [
        "y_pred = clf.predict(x_test)\n",
        "y_pred"
      ],
      "execution_count": null,
      "outputs": [
        {
          "output_type": "execute_result",
          "data": {
            "text/plain": [
              "array([2, 2, 0, 2, 1, 1, 1, 1, 1, 0, 0, 1, 0, 0, 0, 0, 2, 0, 2, 0, 2, 0,\n",
              "       2, 1, 0, 2, 2, 1, 0, 2, 1, 2, 2, 2, 2, 2, 1, 1, 0, 2, 1, 0, 1, 2,\n",
              "       2])"
            ]
          },
          "metadata": {
            "tags": []
          },
          "execution_count": 13
        }
      ]
    },
    {
      "cell_type": "code",
      "metadata": {
        "colab": {
          "base_uri": "https://localhost:8080/"
        },
        "id": "e06u1wZ2mxuB",
        "outputId": "6597818b-8166-4565-a628-1fb0b931b27e"
      },
      "source": [
        "y_test"
      ],
      "execution_count": null,
      "outputs": [
        {
          "output_type": "execute_result",
          "data": {
            "text/plain": [
              "array([2, 2, 0, 2, 1, 1, 1, 1, 1, 0, 0, 1, 0, 0, 0, 0, 2, 0, 2, 0, 2, 0,\n",
              "       2, 1, 0, 2, 2, 1, 0, 2, 1, 2, 2, 2, 2, 2, 1, 1, 0, 2, 1, 0, 1, 2,\n",
              "       2])"
            ]
          },
          "metadata": {
            "tags": []
          },
          "execution_count": 14
        }
      ]
    },
    {
      "cell_type": "code",
      "metadata": {
        "id": "l0Z77ioPm12B"
      },
      "source": [
        "from sklearn.metrics import accuracy_score,confusion_matrix"
      ],
      "execution_count": null,
      "outputs": []
    },
    {
      "cell_type": "code",
      "metadata": {
        "colab": {
          "base_uri": "https://localhost:8080/"
        },
        "id": "945ThMzMm7NB",
        "outputId": "c3cebad6-619d-4c7b-aef7-30bcc7aaa599"
      },
      "source": [
        "accuracy_score(y_pred,y_test)"
      ],
      "execution_count": null,
      "outputs": [
        {
          "output_type": "execute_result",
          "data": {
            "text/plain": [
              "1.0"
            ]
          },
          "metadata": {
            "tags": []
          },
          "execution_count": 16
        }
      ]
    },
    {
      "cell_type": "code",
      "metadata": {
        "colab": {
          "base_uri": "https://localhost:8080/"
        },
        "id": "UH-95ZBjnCJh",
        "outputId": "fca345f2-db5f-4c35-bc8a-43dcde2b31a5"
      },
      "source": [
        "confusion_matrix(y_pred,y_test)"
      ],
      "execution_count": null,
      "outputs": [
        {
          "output_type": "execute_result",
          "data": {
            "text/plain": [
              "array([[14,  0,  0],\n",
              "       [ 0, 13,  0],\n",
              "       [ 0,  0, 18]])"
            ]
          },
          "metadata": {
            "tags": []
          },
          "execution_count": 17
        }
      ]
    },
    {
      "cell_type": "code",
      "metadata": {
        "id": "73cHfZAvnGVw"
      },
      "source": [
        "# Save the model using Pickle library\n",
        "import pickle\n",
        "pickle.dump(clf,open('img_model.p','wb'))"
      ],
      "execution_count": null,
      "outputs": []
    },
    {
      "cell_type": "code",
      "metadata": {
        "id": "g2v2gIpKnKxA"
      },
      "source": [
        "model = pickle.load(open('img_model.p','rb'))"
      ],
      "execution_count": null,
      "outputs": []
    },
    {
      "cell_type": "code",
      "metadata": {
        "colab": {
          "base_uri": "https://localhost:8080/",
          "height": 320
        },
        "id": "RfSDxhJenPu_",
        "outputId": "8d27cfd1-e47e-46c2-9f48-49556969b157"
      },
      "source": [
        "# Testing a brand new Image\n",
        "flat_data = []\n",
        "url = input('Enter your URL')\n",
        "img = imread(url)\n",
        "img_resized = resize(img,(150,150,3))\n",
        "flat_data.append(img_resized.flatten())\n",
        "flat_data = np.array(flat_data)\n",
        "print(img.shape)\n",
        "plt.imshow(img_resized)\n",
        "y_out = model.predict(flat_data)\n",
        "y_out = CATEGORIES[y_out[0]]\n",
        "print(f' PREDICTED OUTPUT: {y_out}')"
      ],
      "execution_count": null,
      "outputs": [
        {
          "output_type": "stream",
          "text": [
            "Enter your URLhttps://th.bing.com/th/id/OIP.2UUn_sMdhnJ-MM8CawDELwHaNH?w=182&h=323&c=7&o=5&pid=1.7\n",
            "(323, 182, 3)\n",
            " PREDICTED OUTPUT: ice cream cone\n"
          ],
          "name": "stdout"
        },
        {
          "output_type": "display_data",
          "data": {
            "image/png": "[encoded data removed]",
            "text/plain": [
              "<Figure size 432x288 with 1 Axes>"
            ]
          },
          "metadata": {
            "tags": [],
            "needs_background": "light"
          }
        }
      ]
    },
    {
      "cell_type": "code",
      "metadata": {
        "id": "GQC5Q_9EnU7_"
      },
      "source": [
        ""
      ],
      "execution_count": null,
      "outputs": []
    }
  ]
}